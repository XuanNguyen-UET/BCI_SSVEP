{
 "cells": [
  {
   "cell_type": "code",
   "execution_count": 1,
   "id": "5ca6c308",
   "metadata": {
    "_cell_guid": "b1076dfc-b9ad-4769-8c92-a6c4dae69d19",
    "_uuid": "8f2839f25d086af736a60e9eeb907d3b93b6e0e5",
    "execution": {
     "iopub.execute_input": "2024-12-14T21:44:38.437035Z",
     "iopub.status.busy": "2024-12-14T21:44:38.436595Z",
     "iopub.status.idle": "2024-12-14T21:44:39.333114Z",
     "shell.execute_reply": "2024-12-14T21:44:39.331949Z"
    },
    "papermill": {
     "duration": 0.905575,
     "end_time": "2024-12-14T21:44:39.335670",
     "exception": false,
     "start_time": "2024-12-14T21:44:38.430095",
     "status": "completed"
    },
    "tags": []
   },
   "outputs": [
    {
     "name": "stdout",
     "output_type": "stream",
     "text": [
      "/kaggle/input/12-class-ssvep-eeg-data/s2.mat\n",
      "/kaggle/input/12-class-ssvep-eeg-data/s5.mat\n",
      "/kaggle/input/12-class-ssvep-eeg-data/s6.mat\n",
      "/kaggle/input/12-class-ssvep-eeg-data/s10.mat\n",
      "/kaggle/input/12-class-ssvep-eeg-data/s8.mat\n",
      "/kaggle/input/12-class-ssvep-eeg-data/s7.mat\n",
      "/kaggle/input/12-class-ssvep-eeg-data/s1.mat\n",
      "/kaggle/input/12-class-ssvep-eeg-data/s3.mat\n",
      "/kaggle/input/12-class-ssvep-eeg-data/s4.mat\n",
      "/kaggle/input/12-class-ssvep-eeg-data/s9.mat\n"
     ]
    }
   ],
   "source": [
    "# This Python 3 environment comes with many helpful analytics libraries installed\n",
    "# It is defined by the kaggle/python Docker image: https://github.com/kaggle/docker-python\n",
    "# For example, here's several helpful packages to load\n",
    "\n",
    "import numpy as np # linear algebra\n",
    "import pandas as pd # data processing, CSV file I/O (e.g. pd.read_csv)\n",
    "\n",
    "# Input data files are available in the read-only \"../input/\" directory\n",
    "# For example, running this (by clicking run or pressing Shift+Enter) will list all files under the input directory\n",
    "\n",
    "import os\n",
    "for dirname, _, filenames in os.walk('/kaggle/input'):\n",
    "    for filename in filenames:\n",
    "        print(os.path.join(dirname, filename))\n",
    "\n",
    "# You can write up to 20GB to the current directory (/kaggle/working/) that gets preserved as output when you create a version using \"Save & Run All\" \n",
    "# You can also write temporary files to /kaggle/temp/, but they won't be saved outside of the current session"
   ]
  },
  {
   "cell_type": "markdown",
   "id": "12891f57",
   "metadata": {
    "papermill": {
     "duration": 0.003903,
     "end_time": "2024-12-14T21:44:39.343998",
     "exception": false,
     "start_time": "2024-12-14T21:44:39.340095",
     "status": "completed"
    },
    "tags": []
   },
   "source": [
    "# 12 Class SSVEP Dataset using CCA"
   ]
  },
  {
   "cell_type": "markdown",
   "id": "5ba704f8",
   "metadata": {
    "papermill": {
     "duration": 0.003776,
     "end_time": "2024-12-14T21:44:39.351755",
     "exception": false,
     "start_time": "2024-12-14T21:44:39.347979",
     "status": "completed"
    },
    "tags": []
   },
   "source": [
    "## 1. Import libs and utils"
   ]
  },
  {
   "cell_type": "code",
   "execution_count": 2,
   "id": "ed26a2a9",
   "metadata": {
    "execution": {
     "iopub.execute_input": "2024-12-14T21:44:39.362362Z",
     "iopub.status.busy": "2024-12-14T21:44:39.361853Z",
     "iopub.status.idle": "2024-12-14T21:44:53.993697Z",
     "shell.execute_reply": "2024-12-14T21:44:53.992712Z"
    },
    "papermill": {
     "duration": 14.640522,
     "end_time": "2024-12-14T21:44:53.996207",
     "exception": false,
     "start_time": "2024-12-14T21:44:39.355685",
     "status": "completed"
    },
    "tags": []
   },
   "outputs": [
    {
     "name": "stdout",
     "output_type": "stream",
     "text": [
      "/kaggle/input/12-class-ssvep-eeg-data/s2.mat\n",
      "/kaggle/input/12-class-ssvep-eeg-data/s5.mat\n",
      "/kaggle/input/12-class-ssvep-eeg-data/s6.mat\n",
      "/kaggle/input/12-class-ssvep-eeg-data/s10.mat\n",
      "/kaggle/input/12-class-ssvep-eeg-data/s8.mat\n",
      "/kaggle/input/12-class-ssvep-eeg-data/s7.mat\n",
      "/kaggle/input/12-class-ssvep-eeg-data/s1.mat\n",
      "/kaggle/input/12-class-ssvep-eeg-data/s3.mat\n",
      "/kaggle/input/12-class-ssvep-eeg-data/s4.mat\n",
      "/kaggle/input/12-class-ssvep-eeg-data/s9.mat\n"
     ]
    }
   ],
   "source": [
    "import os\n",
    "import sys \n",
    "import scipy.io as sio\n",
    "# ssvep utils \n",
    "import ssvep_ultils as su \n",
    "from sklearn.metrics import confusion_matrix\n",
    "from sklearn.cross_decomposition import CCA"
   ]
  },
  {
   "cell_type": "markdown",
   "id": "242150ae",
   "metadata": {
    "papermill": {
     "duration": 0.004017,
     "end_time": "2024-12-14T21:44:54.004621",
     "exception": false,
     "start_time": "2024-12-14T21:44:54.000604",
     "status": "completed"
    },
    "tags": []
   },
   "source": [
    "## 2. Import data"
   ]
  },
  {
   "cell_type": "code",
   "execution_count": 3,
   "id": "3bbf4b61",
   "metadata": {
    "execution": {
     "iopub.execute_input": "2024-12-14T21:44:54.015042Z",
     "iopub.status.busy": "2024-12-14T21:44:54.014358Z",
     "iopub.status.idle": "2024-12-14T21:44:59.667849Z",
     "shell.execute_reply": "2024-12-14T21:44:59.666787Z"
    },
    "papermill": {
     "duration": 5.661314,
     "end_time": "2024-12-14T21:44:59.670141",
     "exception": false,
     "start_time": "2024-12-14T21:44:54.008827",
     "status": "completed"
    },
    "tags": []
   },
   "outputs": [
    {
     "name": "stdout",
     "output_type": "stream",
     "text": [
      "Loading data for s1 from /kaggle/input/12-class-ssvep-eeg-data/s1.mat...\n",
      "Loading data for s2 from /kaggle/input/12-class-ssvep-eeg-data/s2.mat...\n",
      "Loading data for s3 from /kaggle/input/12-class-ssvep-eeg-data/s3.mat...\n",
      "Loading data for s4 from /kaggle/input/12-class-ssvep-eeg-data/s4.mat...\n",
      "Loading data for s5 from /kaggle/input/12-class-ssvep-eeg-data/s5.mat...\n",
      "Loading data for s6 from /kaggle/input/12-class-ssvep-eeg-data/s6.mat...\n",
      "Loading data for s7 from /kaggle/input/12-class-ssvep-eeg-data/s7.mat...\n",
      "Loading data for s8 from /kaggle/input/12-class-ssvep-eeg-data/s8.mat...\n",
      "Loading data for s9 from /kaggle/input/12-class-ssvep-eeg-data/s9.mat...\n",
      "Loading data for s10 from /kaggle/input/12-class-ssvep-eeg-data/s10.mat...\n",
      "Data loading completed.\n",
      "Subject s1: Keys in data - ['__header__', '__version__', '__globals__', 'ans', 'train', 'list_sub', 'sub_i', 'eeg']\n",
      "Subject s2: Keys in data - ['__header__', '__version__', '__globals__', 'ans', 'train', 'list_sub', 'sub_i', 'eeg']\n",
      "Subject s3: Keys in data - ['__header__', '__version__', '__globals__', 'ans', 'train', 'list_sub', 'sub_i', 'eeg']\n",
      "Subject s4: Keys in data - ['__header__', '__version__', '__globals__', 'ans', 'train', 'list_sub', 'sub_i', 'eeg']\n",
      "Subject s5: Keys in data - ['__header__', '__version__', '__globals__', 'ans', 'train', 'list_sub', 'sub_i', 'eeg']\n",
      "Subject s6: Keys in data - ['__header__', '__version__', '__globals__', 'ans', 'train', 'list_sub', 'sub_i', 'eeg']\n",
      "Subject s7: Keys in data - ['__header__', '__version__', '__globals__', 'ans', 'train', 'list_sub', 'sub_i', 'eeg']\n",
      "Subject s8: Keys in data - ['__header__', '__version__', '__globals__', 'ans', 'train', 'list_sub', 'sub_i', 'eeg']\n",
      "Subject s9: Keys in data - ['__header__', '__version__', '__globals__', 'ans', 'train', 'list_sub', 'sub_i', 'eeg']\n",
      "Subject s10: Keys in data - ['__header__', '__version__', '__globals__', 'ans', 'train', 'list_sub', 'sub_i', 'eeg']\n"
     ]
    }
   ],
   "source": [
    "import os\n",
    "import numpy as np\n",
    "from scipy.io import loadmat\n",
    "\n",
    "data_files = [\n",
    "    '/kaggle/input/12-class-ssvep-eeg-data/s1.mat',\n",
    "    '/kaggle/input/12-class-ssvep-eeg-data/s2.mat',\n",
    "    '/kaggle/input/12-class-ssvep-eeg-data/s3.mat',\n",
    "    '/kaggle/input/12-class-ssvep-eeg-data/s4.mat',\n",
    "    \n",
    "    '/kaggle/input/12-class-ssvep-eeg-data/s5.mat',\n",
    "    '/kaggle/input/12-class-ssvep-eeg-data/s6.mat',\n",
    "    '/kaggle/input/12-class-ssvep-eeg-data/s7.mat',\n",
    "    '/kaggle/input/12-class-ssvep-eeg-data/s8.mat',\n",
    "    '/kaggle/input/12-class-ssvep-eeg-data/s9.mat',\n",
    "    '/kaggle/input/12-class-ssvep-eeg-data/s10.mat',\n",
    "]\n",
    "\n",
    "all_segment_data = dict()\n",
    "all_acc = list()\n",
    "window_len = 1\n",
    "shift_len = 1\n",
    "sample_rate = 256\n",
    "duration = int(window_len * sample_rate)\n",
    "flicker_freq = np.array([9.25, 11.25, 13.25, 9.75, 11.75, 13.75, \n",
    "                         10.25, 12.25, 14.25, 10.75, 12.75, 14.75])\n",
    "\n",
    "for file_path in data_files:\n",
    "    subject_id = os.path.basename(file_path).split('.')[0] \n",
    "    print(f\"Loading data for {subject_id} from {file_path}...\")\n",
    "    data = loadmat(file_path) \n",
    "    all_segment_data[subject_id] = data\n",
    "\n",
    "print(\"Data loading completed.\")\n",
    "\n",
    "# check\n",
    "for subject, data in all_segment_data.items():\n",
    "    print(f\"Subject {subject}: Keys in data - {list(data.keys())}\")\n"
   ]
  },
  {
   "cell_type": "markdown",
   "id": "3d4b6a0b",
   "metadata": {
    "papermill": {
     "duration": 0.004616,
     "end_time": "2024-12-14T21:44:59.679678",
     "exception": false,
     "start_time": "2024-12-14T21:44:59.675062",
     "status": "completed"
    },
    "tags": []
   },
   "source": [
    "### Get CCA reference signals "
   ]
  },
  {
   "cell_type": "code",
   "execution_count": 4,
   "id": "78644ba2",
   "metadata": {
    "execution": {
     "iopub.execute_input": "2024-12-14T21:44:59.691000Z",
     "iopub.status.busy": "2024-12-14T21:44:59.690283Z",
     "iopub.status.idle": "2024-12-14T21:44:59.696761Z",
     "shell.execute_reply": "2024-12-14T21:44:59.695749Z"
    },
    "papermill": {
     "duration": 0.01426,
     "end_time": "2024-12-14T21:44:59.698743",
     "exception": false,
     "start_time": "2024-12-14T21:44:59.684483",
     "status": "completed"
    },
    "tags": []
   },
   "outputs": [],
   "source": [
    "def get_cca_reference_signals(data_len, target_freq, sampling_rate):\n",
    "    reference_signals = []\n",
    "    t = np.arange(0, (data_len/(sampling_rate)), step=1.0/(sampling_rate))\n",
    "    reference_signals.append(np.sin(np.pi*2*target_freq*t))\n",
    "    reference_signals.append(np.cos(np.pi*2*target_freq*t))\n",
    "    reference_signals.append(np.sin(np.pi*4*target_freq*t))\n",
    "    reference_signals.append(np.cos(np.pi*4*target_freq*t))\n",
    "    reference_signals = np.array(reference_signals)\n",
    "    \n",
    "    return reference_signals"
   ]
  },
  {
   "cell_type": "markdown",
   "id": "b87739d4",
   "metadata": {
    "papermill": {
     "duration": 0.004517,
     "end_time": "2024-12-14T21:44:59.707965",
     "exception": false,
     "start_time": "2024-12-14T21:44:59.703448",
     "status": "completed"
    },
    "tags": []
   },
   "source": [
    "### Explain this"
   ]
  },
  {
   "cell_type": "code",
   "execution_count": 5,
   "id": "becbed5d",
   "metadata": {
    "execution": {
     "iopub.execute_input": "2024-12-14T21:44:59.718942Z",
     "iopub.status.busy": "2024-12-14T21:44:59.718244Z",
     "iopub.status.idle": "2024-12-14T21:44:59.724931Z",
     "shell.execute_reply": "2024-12-14T21:44:59.723934Z"
    },
    "papermill": {
     "duration": 0.014362,
     "end_time": "2024-12-14T21:44:59.726865",
     "exception": false,
     "start_time": "2024-12-14T21:44:59.712503",
     "status": "completed"
    },
    "tags": []
   },
   "outputs": [],
   "source": [
    "def find_correlation(n_components, np_buffer, freq):\n",
    "    cca = CCA(n_components)\n",
    "    corr = np.zeros(n_components)\n",
    "    result = np.zeros(freq.shape[0])\n",
    "    for freq_idx in range(0,freq.shape[0]):\n",
    "        cca.fit(np_buffer.T,np.squeeze(freq[freq_idx, :, :]).T)\n",
    "        O1_a,O1_b = cca.transform(np_buffer.T, np.squeeze(freq[freq_idx, :, :]).T)\n",
    "        ind_val = 0\n",
    "        for ind_val in range(0,n_components):\n",
    "            corr[ind_val] = np.corrcoef(O1_a[: ,ind_val], O1_b[:, ind_val])[0 ,1]\n",
    "            result[freq_idx] = np.max(corr)\n",
    "    \n",
    "    return result"
   ]
  },
  {
   "cell_type": "markdown",
   "id": "49f86532",
   "metadata": {
    "papermill": {
     "duration": 0.004392,
     "end_time": "2024-12-14T21:44:59.736132",
     "exception": false,
     "start_time": "2024-12-14T21:44:59.731740",
     "status": "completed"
    },
    "tags": []
   },
   "source": [
    "### Explain this"
   ]
  },
  {
   "cell_type": "code",
   "execution_count": 6,
   "id": "2311fb02",
   "metadata": {
    "execution": {
     "iopub.execute_input": "2024-12-14T21:44:59.746621Z",
     "iopub.status.busy": "2024-12-14T21:44:59.746258Z",
     "iopub.status.idle": "2024-12-14T21:44:59.752711Z",
     "shell.execute_reply": "2024-12-14T21:44:59.751721Z"
    },
    "papermill": {
     "duration": 0.014052,
     "end_time": "2024-12-14T21:44:59.754602",
     "exception": false,
     "start_time": "2024-12-14T21:44:59.740550",
     "status": "completed"
    },
    "tags": []
   },
   "outputs": [],
   "source": [
    "def cca_classify(segmented_data, reference_templates):\n",
    "    predicted_class = []\n",
    "    labels = []\n",
    "    for target in range(0, segmented_data.shape[0]):\n",
    "        for trial in range(0, segmented_data.shape[2]):\n",
    "            for segment in range(0, segmented_data.shape[3]):\n",
    "                labels.append(target)\n",
    "                result = find_correlation(1, segmented_data[target, :, trial, segment, :], \n",
    "                                      reference_templates)\n",
    "                predicted_class.append(np.argmax(result)+1)\n",
    "    labels = np.array(labels)+1\n",
    "    predicted_class = np.array(predicted_class)\n",
    "\n",
    "    return labels, predicted_class"
   ]
  },
  {
   "cell_type": "markdown",
   "id": "7bad28db",
   "metadata": {
    "papermill": {
     "duration": 0.004513,
     "end_time": "2024-12-14T21:44:59.763906",
     "exception": false,
     "start_time": "2024-12-14T21:44:59.759393",
     "status": "completed"
    },
    "tags": []
   },
   "source": [
    "### Filtering data and segment epochs"
   ]
  },
  {
   "cell_type": "code",
   "execution_count": 7,
   "id": "32041cfd",
   "metadata": {
    "execution": {
     "iopub.execute_input": "2024-12-14T21:44:59.775058Z",
     "iopub.status.busy": "2024-12-14T21:44:59.774659Z",
     "iopub.status.idle": "2024-12-14T21:45:09.588277Z",
     "shell.execute_reply": "2024-12-14T21:45:09.587360Z"
    },
    "papermill": {
     "duration": 9.821859,
     "end_time": "2024-12-14T21:45:09.590700",
     "exception": false,
     "start_time": "2024-12-14T21:44:59.768841",
     "status": "completed"
    },
    "tags": []
   },
   "outputs": [],
   "source": [
    "for idx, file_path in enumerate(data_files):\n",
    "    dataset = sio.loadmat(file_path)\n",
    "    eeg = np.array(dataset['eeg'], dtype='float32')\n",
    "    \n",
    "    num_classes = eeg.shape[0]\n",
    "    n_ch = eeg.shape[1]\n",
    "    total_trial_len = eeg.shape[2]\n",
    "    num_trials = eeg.shape[3]\n",
    "    \n",
    "    filtered_data = su.get_filtered_eeg(eeg, 6, 80, 4, sample_rate)\n",
    "    all_segment_data[f's{idx+1}'] = su.get_segmented_epochs(\n",
    "        filtered_data, window_len, shift_len, sample_rate\n",
    "    )\n"
   ]
  },
  {
   "cell_type": "markdown",
   "id": "4e7a19dc",
   "metadata": {
    "papermill": {
     "duration": 0.004372,
     "end_time": "2024-12-14T21:45:09.599859",
     "exception": false,
     "start_time": "2024-12-14T21:45:09.595487",
     "status": "completed"
    },
    "tags": []
   },
   "source": [
    "### Generating the required sinusoidal templates for the given 12-class SSVEP classification"
   ]
  },
  {
   "cell_type": "code",
   "execution_count": 8,
   "id": "ef456737",
   "metadata": {
    "execution": {
     "iopub.execute_input": "2024-12-14T21:45:09.610967Z",
     "iopub.status.busy": "2024-12-14T21:45:09.610007Z",
     "iopub.status.idle": "2024-12-14T21:45:09.616580Z",
     "shell.execute_reply": "2024-12-14T21:45:09.615695Z"
    },
    "papermill": {
     "duration": 0.014259,
     "end_time": "2024-12-14T21:45:09.618630",
     "exception": false,
     "start_time": "2024-12-14T21:45:09.604371",
     "status": "completed"
    },
    "tags": []
   },
   "outputs": [],
   "source": [
    "reference_templates = []\n",
    "for fr in range(0, len(flicker_freq)):\n",
    "    reference_templates.append(get_cca_reference_signals(duration, flicker_freq[fr], sample_rate))\n",
    "reference_templates = np.array(reference_templates, dtype='float32')"
   ]
  },
  {
   "cell_type": "markdown",
   "id": "12e009fe",
   "metadata": {
    "papermill": {
     "duration": 0.004638,
     "end_time": "2024-12-14T21:45:09.627819",
     "exception": false,
     "start_time": "2024-12-14T21:45:09.623181",
     "status": "completed"
    },
    "tags": []
   },
   "source": [
    "## 3. Perform CCA on the Segmented epochs "
   ]
  },
  {
   "cell_type": "code",
   "execution_count": 9,
   "id": "8f6b8f3d",
   "metadata": {
    "execution": {
     "iopub.execute_input": "2024-12-14T21:45:09.638432Z",
     "iopub.status.busy": "2024-12-14T21:45:09.638072Z",
     "iopub.status.idle": "2024-12-14T21:47:43.314722Z",
     "shell.execute_reply": "2024-12-14T21:47:43.313748Z"
    },
    "papermill": {
     "duration": 153.689649,
     "end_time": "2024-12-14T21:47:43.321958",
     "exception": false,
     "start_time": "2024-12-14T21:45:09.632309",
     "status": "completed"
    },
    "tags": []
   },
   "outputs": [
    {
     "name": "stdout",
     "output_type": "stream",
     "text": [
      "Subject: s1, Accuracy: 29.166666666666668 %\n",
      "Subject: s2, Accuracy: 26.25 %\n",
      "Subject: s3, Accuracy: 59.44444444444444 %\n",
      "Subject: s4, Accuracy: 80.27777777777779 %\n",
      "Subject: s5, Accuracy: 52.361111111111114 %\n",
      "Subject: s6, Accuracy: 87.22222222222223 %\n",
      "Subject: s7, Accuracy: 69.16666666666667 %\n",
      "Subject: s8, Accuracy: 96.66666666666667 %\n",
      "Subject: s9, Accuracy: 66.38888888888889 %\n",
      "Subject: s10, Accuracy: 65.27777777777779 %\n"
     ]
    }
   ],
   "source": [
    "for subject in all_segment_data.keys():\n",
    "    labels, predicted_class = cca_classify(all_segment_data[subject], reference_templates)\n",
    "    c_mat = confusion_matrix(labels, predicted_class)\n",
    "    accuracy = np.divide(np.trace(c_mat), np.sum(np.sum(c_mat)))\n",
    "    all_acc.append(accuracy)\n",
    "    print(f'Subject: {subject}, Accuracy: {accuracy*100} %')"
   ]
  },
  {
   "cell_type": "markdown",
   "id": "dc9fdb3f",
   "metadata": {
    "papermill": {
     "duration": 0.004883,
     "end_time": "2024-12-14T21:47:43.331935",
     "exception": false,
     "start_time": "2024-12-14T21:47:43.327052",
     "status": "completed"
    },
    "tags": []
   },
   "source": [
    "### Overall Accuracy Across Subjects: "
   ]
  },
  {
   "cell_type": "code",
   "execution_count": 10,
   "id": "28b43a5f",
   "metadata": {
    "execution": {
     "iopub.execute_input": "2024-12-14T21:47:43.343528Z",
     "iopub.status.busy": "2024-12-14T21:47:43.343153Z",
     "iopub.status.idle": "2024-12-14T21:47:43.349300Z",
     "shell.execute_reply": "2024-12-14T21:47:43.348203Z"
    },
    "papermill": {
     "duration": 0.014341,
     "end_time": "2024-12-14T21:47:43.351258",
     "exception": false,
     "start_time": "2024-12-14T21:47:43.336917",
     "status": "completed"
    },
    "tags": []
   },
   "outputs": [
    {
     "name": "stdout",
     "output_type": "stream",
     "text": [
      "Overall Accuracy Across Subjects: 63.22222222222222 %, std: 21.665580457103147 %\n"
     ]
    }
   ],
   "source": [
    "all_acc = np.array(all_acc)\n",
    "print(f'Overall Accuracy Across Subjects: {np.mean(all_acc)*100} %, std: {np.std(all_acc)*100} %')"
   ]
  }
 ],
 "metadata": {
  "kaggle": {
   "accelerator": "none",
   "dataSources": [
    {
     "datasetId": 6292456,
     "sourceId": 10185721,
     "sourceType": "datasetVersion"
    },
    {
     "sourceId": 213093488,
     "sourceType": "kernelVersion"
    }
   ],
   "dockerImageVersionId": 30804,
   "isGpuEnabled": false,
   "isInternetEnabled": true,
   "language": "python",
   "sourceType": "notebook"
  },
  "kernelspec": {
   "display_name": "Python 3",
   "language": "python",
   "name": "python3"
  },
  "language_info": {
   "codemirror_mode": {
    "name": "ipython",
    "version": 3
   },
   "file_extension": ".py",
   "mimetype": "text/x-python",
   "name": "python",
   "nbconvert_exporter": "python",
   "pygments_lexer": "ipython3",
   "version": "3.10.14"
  },
  "papermill": {
   "default_parameters": {},
   "duration": 189.085508,
   "end_time": "2024-12-14T21:47:44.880139",
   "environment_variables": {},
   "exception": null,
   "input_path": "__notebook__.ipynb",
   "output_path": "__notebook__.ipynb",
   "parameters": {},
   "start_time": "2024-12-14T21:44:35.794631",
   "version": "2.6.0"
  }
 },
 "nbformat": 4,
 "nbformat_minor": 5
}
